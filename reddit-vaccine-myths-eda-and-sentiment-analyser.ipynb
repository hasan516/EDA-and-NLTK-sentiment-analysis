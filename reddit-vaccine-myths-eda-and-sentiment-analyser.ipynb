{
 "cells": [
  {
   "cell_type": "code",
   "execution_count": 1,
   "id": "0c9ca681",
   "metadata": {
    "_cell_guid": "b1076dfc-b9ad-4769-8c92-a6c4dae69d19",
    "_uuid": "8f2839f25d086af736a60e9eeb907d3b93b6e0e5",
    "execution": {
     "iopub.execute_input": "2022-07-01T18:42:07.572598Z",
     "iopub.status.busy": "2022-07-01T18:42:07.572055Z",
     "iopub.status.idle": "2022-07-01T18:42:07.591425Z",
     "shell.execute_reply": "2022-07-01T18:42:07.590519Z"
    },
    "papermill": {
     "duration": 0.040532,
     "end_time": "2022-07-01T18:42:07.594018",
     "exception": false,
     "start_time": "2022-07-01T18:42:07.553486",
     "status": "completed"
    },
    "tags": []
   },
   "outputs": [
    {
     "name": "stdout",
     "output_type": "stream",
     "text": [
      "/kaggle/input/reddit-vaccine-myths/reddit_vm.csv\n"
     ]
    }
   ],
   "source": [
    "# This Python 3 environment comes with many helpful analytics libraries installed\n",
    "# It is defined by the kaggle/python Docker image: https://github.com/kaggle/docker-python\n",
    "# For example, here's several helpful packages to load\n",
    "\n",
    "import numpy as np # linear algebra\n",
    "import pandas as pd # data processing, CSV file I/O (e.g. pd.read_csv)\n",
    "\n",
    "# Input data files are available in the read-only \"../input/\" directory\n",
    "# For example, running this (by clicking run or pressing Shift+Enter) will list all files under the input directory\n",
    "\n",
    "import os\n",
    "for dirname, _, filenames in os.walk('/kaggle/input'):\n",
    "    for filename in filenames:\n",
    "        print(os.path.join(dirname, filename))\n",
    "\n",
    "# You can write up to 20GB to the current directory (/kaggle/working/) that gets preserved as output when you create a version using \"Save & Run All\" \n",
    "# You can also write temporary files to /kaggle/temp/, but they won't be saved outside of the current session"
   ]
  },
  {
   "cell_type": "code",
   "execution_count": 2,
   "id": "a17460d5",
   "metadata": {
    "execution": {
     "iopub.execute_input": "2022-07-01T18:42:07.628242Z",
     "iopub.status.busy": "2022-07-01T18:42:07.627443Z",
     "iopub.status.idle": "2022-07-01T18:42:07.670229Z",
     "shell.execute_reply": "2022-07-01T18:42:07.669304Z"
    },
    "papermill": {
     "duration": 0.062896,
     "end_time": "2022-07-01T18:42:07.672773",
     "exception": false,
     "start_time": "2022-07-01T18:42:07.609877",
     "status": "completed"
    },
    "tags": []
   },
   "outputs": [],
   "source": [
    "posts = pd.read_csv('/kaggle/input/reddit-vaccine-myths/reddit_vm.csv')"
   ]
  },
  {
   "cell_type": "code",
   "execution_count": 3,
   "id": "40254f2a",
   "metadata": {
    "execution": {
     "iopub.execute_input": "2022-07-01T18:42:07.707075Z",
     "iopub.status.busy": "2022-07-01T18:42:07.706251Z",
     "iopub.status.idle": "2022-07-01T18:42:07.732581Z",
     "shell.execute_reply": "2022-07-01T18:42:07.731589Z"
    },
    "papermill": {
     "duration": 0.04669,
     "end_time": "2022-07-01T18:42:07.734727",
     "exception": false,
     "start_time": "2022-07-01T18:42:07.688037",
     "status": "completed"
    },
    "tags": []
   },
   "outputs": [
    {
     "data": {
      "text/html": [
       "<div>\n",
       "<style scoped>\n",
       "    .dataframe tbody tr th:only-of-type {\n",
       "        vertical-align: middle;\n",
       "    }\n",
       "\n",
       "    .dataframe tbody tr th {\n",
       "        vertical-align: top;\n",
       "    }\n",
       "\n",
       "    .dataframe thead th {\n",
       "        text-align: right;\n",
       "    }\n",
       "</style>\n",
       "<table border=\"1\" class=\"dataframe\">\n",
       "  <thead>\n",
       "    <tr style=\"text-align: right;\">\n",
       "      <th></th>\n",
       "      <th>title</th>\n",
       "      <th>score</th>\n",
       "      <th>id</th>\n",
       "      <th>url</th>\n",
       "      <th>comms_num</th>\n",
       "      <th>created</th>\n",
       "      <th>body</th>\n",
       "      <th>timestamp</th>\n",
       "    </tr>\n",
       "  </thead>\n",
       "  <tbody>\n",
       "    <tr>\n",
       "      <th>0</th>\n",
       "      <td>Health Canada approves AstraZeneca COVID-19 va...</td>\n",
       "      <td>7</td>\n",
       "      <td>lt74vw</td>\n",
       "      <td>https://www.canadaforums.ca/2021/02/health-can...</td>\n",
       "      <td>0</td>\n",
       "      <td>1.614400e+09</td>\n",
       "      <td>NaN</td>\n",
       "      <td>2021-02-27 06:33:45</td>\n",
       "    </tr>\n",
       "    <tr>\n",
       "      <th>1</th>\n",
       "      <td>COVID-19 in Canada: 'Vaccination passports' a ...</td>\n",
       "      <td>2</td>\n",
       "      <td>lsh0ij</td>\n",
       "      <td>https://www.canadaforums.ca/2021/02/covid-19-i...</td>\n",
       "      <td>1</td>\n",
       "      <td>1.614316e+09</td>\n",
       "      <td>NaN</td>\n",
       "      <td>2021-02-26 07:11:07</td>\n",
       "    </tr>\n",
       "    <tr>\n",
       "      <th>2</th>\n",
       "      <td>Coronavirus variants could fuel Canada's third...</td>\n",
       "      <td>6</td>\n",
       "      <td>lohlle</td>\n",
       "      <td>https://www.canadaforums.ca/2021/02/coronaviru...</td>\n",
       "      <td>0</td>\n",
       "      <td>1.613887e+09</td>\n",
       "      <td>NaN</td>\n",
       "      <td>2021-02-21 07:50:08</td>\n",
       "    </tr>\n",
       "    <tr>\n",
       "      <th>3</th>\n",
       "      <td>Canadian government to extend COVID-19 emergen...</td>\n",
       "      <td>1</td>\n",
       "      <td>lnptv8</td>\n",
       "      <td>https://www.canadaforums.ca/2021/02/canadian-g...</td>\n",
       "      <td>0</td>\n",
       "      <td>1.613796e+09</td>\n",
       "      <td>NaN</td>\n",
       "      <td>2021-02-20 06:35:13</td>\n",
       "    </tr>\n",
       "    <tr>\n",
       "      <th>4</th>\n",
       "      <td>Canada: Pfizer is 'extremely committed' to mee...</td>\n",
       "      <td>6</td>\n",
       "      <td>lkslm6</td>\n",
       "      <td>https://www.canadaforums.ca/2021/02/canada-pfi...</td>\n",
       "      <td>0</td>\n",
       "      <td>1.613468e+09</td>\n",
       "      <td>NaN</td>\n",
       "      <td>2021-02-16 11:36:28</td>\n",
       "    </tr>\n",
       "  </tbody>\n",
       "</table>\n",
       "</div>"
      ],
      "text/plain": [
       "                                               title  score      id  \\\n",
       "0  Health Canada approves AstraZeneca COVID-19 va...      7  lt74vw   \n",
       "1  COVID-19 in Canada: 'Vaccination passports' a ...      2  lsh0ij   \n",
       "2  Coronavirus variants could fuel Canada's third...      6  lohlle   \n",
       "3  Canadian government to extend COVID-19 emergen...      1  lnptv8   \n",
       "4  Canada: Pfizer is 'extremely committed' to mee...      6  lkslm6   \n",
       "\n",
       "                                                 url  comms_num       created  \\\n",
       "0  https://www.canadaforums.ca/2021/02/health-can...          0  1.614400e+09   \n",
       "1  https://www.canadaforums.ca/2021/02/covid-19-i...          1  1.614316e+09   \n",
       "2  https://www.canadaforums.ca/2021/02/coronaviru...          0  1.613887e+09   \n",
       "3  https://www.canadaforums.ca/2021/02/canadian-g...          0  1.613796e+09   \n",
       "4  https://www.canadaforums.ca/2021/02/canada-pfi...          0  1.613468e+09   \n",
       "\n",
       "  body            timestamp  \n",
       "0  NaN  2021-02-27 06:33:45  \n",
       "1  NaN  2021-02-26 07:11:07  \n",
       "2  NaN  2021-02-21 07:50:08  \n",
       "3  NaN  2021-02-20 06:35:13  \n",
       "4  NaN  2021-02-16 11:36:28  "
      ]
     },
     "execution_count": 3,
     "metadata": {},
     "output_type": "execute_result"
    }
   ],
   "source": [
    "posts.head()"
   ]
  },
  {
   "cell_type": "markdown",
   "id": "dabb362a",
   "metadata": {
    "papermill": {
     "duration": 0.015371,
     "end_time": "2022-07-01T18:42:07.765947",
     "exception": false,
     "start_time": "2022-07-01T18:42:07.750576",
     "status": "completed"
    },
    "tags": []
   },
   "source": [
    "Let us first have a broad look over the data..."
   ]
  },
  {
   "cell_type": "code",
   "execution_count": 4,
   "id": "b6493bc2",
   "metadata": {
    "execution": {
     "iopub.execute_input": "2022-07-01T18:42:07.800040Z",
     "iopub.status.busy": "2022-07-01T18:42:07.799235Z",
     "iopub.status.idle": "2022-07-01T18:42:07.827207Z",
     "shell.execute_reply": "2022-07-01T18:42:07.826331Z"
    },
    "papermill": {
     "duration": 0.048317,
     "end_time": "2022-07-01T18:42:07.830130",
     "exception": false,
     "start_time": "2022-07-01T18:42:07.781813",
     "status": "completed"
    },
    "tags": []
   },
   "outputs": [
    {
     "name": "stdout",
     "output_type": "stream",
     "text": [
      "<class 'pandas.core.frame.DataFrame'>\n",
      "RangeIndex: 1602 entries, 0 to 1601\n",
      "Data columns (total 8 columns):\n",
      " #   Column     Non-Null Count  Dtype  \n",
      "---  ------     --------------  -----  \n",
      " 0   title      1602 non-null   object \n",
      " 1   score      1602 non-null   int64  \n",
      " 2   id         1602 non-null   object \n",
      " 3   url        469 non-null    object \n",
      " 4   comms_num  1602 non-null   int64  \n",
      " 5   created    1602 non-null   float64\n",
      " 6   body       1226 non-null   object \n",
      " 7   timestamp  1602 non-null   object \n",
      "dtypes: float64(1), int64(2), object(5)\n",
      "memory usage: 100.2+ KB\n"
     ]
    }
   ],
   "source": [
    "posts.info()"
   ]
  },
  {
   "cell_type": "code",
   "execution_count": 5,
   "id": "c645802e",
   "metadata": {
    "execution": {
     "iopub.execute_input": "2022-07-01T18:42:07.864662Z",
     "iopub.status.busy": "2022-07-01T18:42:07.863892Z",
     "iopub.status.idle": "2022-07-01T18:42:07.889846Z",
     "shell.execute_reply": "2022-07-01T18:42:07.888593Z"
    },
    "papermill": {
     "duration": 0.046019,
     "end_time": "2022-07-01T18:42:07.892373",
     "exception": false,
     "start_time": "2022-07-01T18:42:07.846354",
     "status": "completed"
    },
    "tags": []
   },
   "outputs": [
    {
     "data": {
      "text/html": [
       "<div>\n",
       "<style scoped>\n",
       "    .dataframe tbody tr th:only-of-type {\n",
       "        vertical-align: middle;\n",
       "    }\n",
       "\n",
       "    .dataframe tbody tr th {\n",
       "        vertical-align: top;\n",
       "    }\n",
       "\n",
       "    .dataframe thead th {\n",
       "        text-align: right;\n",
       "    }\n",
       "</style>\n",
       "<table border=\"1\" class=\"dataframe\">\n",
       "  <thead>\n",
       "    <tr style=\"text-align: right;\">\n",
       "      <th></th>\n",
       "      <th>score</th>\n",
       "      <th>comms_num</th>\n",
       "      <th>created</th>\n",
       "    </tr>\n",
       "  </thead>\n",
       "  <tbody>\n",
       "    <tr>\n",
       "      <th>count</th>\n",
       "      <td>1602.000000</td>\n",
       "      <td>1602.000000</td>\n",
       "      <td>1.602000e+03</td>\n",
       "    </tr>\n",
       "    <tr>\n",
       "      <th>mean</th>\n",
       "      <td>3.686642</td>\n",
       "      <td>1.838951</td>\n",
       "      <td>1.547197e+09</td>\n",
       "    </tr>\n",
       "    <tr>\n",
       "      <th>std</th>\n",
       "      <td>29.915671</td>\n",
       "      <td>16.115147</td>\n",
       "      <td>7.099511e+07</td>\n",
       "    </tr>\n",
       "    <tr>\n",
       "      <th>min</th>\n",
       "      <td>-12.000000</td>\n",
       "      <td>0.000000</td>\n",
       "      <td>1.389595e+09</td>\n",
       "    </tr>\n",
       "    <tr>\n",
       "      <th>25%</th>\n",
       "      <td>1.000000</td>\n",
       "      <td>0.000000</td>\n",
       "      <td>1.554367e+09</td>\n",
       "    </tr>\n",
       "    <tr>\n",
       "      <th>50%</th>\n",
       "      <td>1.000000</td>\n",
       "      <td>0.000000</td>\n",
       "      <td>1.569226e+09</td>\n",
       "    </tr>\n",
       "    <tr>\n",
       "      <th>75%</th>\n",
       "      <td>3.000000</td>\n",
       "      <td>1.000000</td>\n",
       "      <td>1.584901e+09</td>\n",
       "    </tr>\n",
       "    <tr>\n",
       "      <th>max</th>\n",
       "      <td>1187.000000</td>\n",
       "      <td>595.000000</td>\n",
       "      <td>1.640822e+09</td>\n",
       "    </tr>\n",
       "  </tbody>\n",
       "</table>\n",
       "</div>"
      ],
      "text/plain": [
       "             score    comms_num       created\n",
       "count  1602.000000  1602.000000  1.602000e+03\n",
       "mean      3.686642     1.838951  1.547197e+09\n",
       "std      29.915671    16.115147  7.099511e+07\n",
       "min     -12.000000     0.000000  1.389595e+09\n",
       "25%       1.000000     0.000000  1.554367e+09\n",
       "50%       1.000000     0.000000  1.569226e+09\n",
       "75%       3.000000     1.000000  1.584901e+09\n",
       "max    1187.000000   595.000000  1.640822e+09"
      ]
     },
     "execution_count": 5,
     "metadata": {},
     "output_type": "execute_result"
    }
   ],
   "source": [
    "posts.describe()"
   ]
  },
  {
   "cell_type": "code",
   "execution_count": 6,
   "id": "988d5d3b",
   "metadata": {
    "execution": {
     "iopub.execute_input": "2022-07-01T18:42:07.926781Z",
     "iopub.status.busy": "2022-07-01T18:42:07.925957Z",
     "iopub.status.idle": "2022-07-01T18:42:08.386349Z",
     "shell.execute_reply": "2022-07-01T18:42:08.384974Z"
    },
    "papermill": {
     "duration": 0.480723,
     "end_time": "2022-07-01T18:42:08.388814",
     "exception": false,
     "start_time": "2022-07-01T18:42:07.908091",
     "status": "completed"
    },
    "tags": []
   },
   "outputs": [
    {
     "data": {
      "text/plain": [
       "array([[<AxesSubplot:title={'center':'score'}>,\n",
       "        <AxesSubplot:title={'center':'comms_num'}>],\n",
       "       [<AxesSubplot:title={'center':'created'}>, <AxesSubplot:>]],\n",
       "      dtype=object)"
      ]
     },
     "execution_count": 6,
     "metadata": {},
     "output_type": "execute_result"
    },
    {
     "data": {
      "image/png": "[encoded data removed]",
      "text/plain": [
       "<Figure size 432x288 with 4 Axes>"
      ]
     },
     "metadata": {
      "needs_background": "light"
     },
     "output_type": "display_data"
    }
   ],
   "source": [
    "posts.hist()"
   ]
  },
  {
   "cell_type": "code",
   "execution_count": 7,
   "id": "28219ad7",
   "metadata": {
    "execution": {
     "iopub.execute_input": "2022-07-01T18:42:08.423345Z",
     "iopub.status.busy": "2022-07-01T18:42:08.422847Z",
     "iopub.status.idle": "2022-07-01T18:42:08.434242Z",
     "shell.execute_reply": "2022-07-01T18:42:08.433147Z"
    },
    "papermill": {
     "duration": 0.032614,
     "end_time": "2022-07-01T18:42:08.437560",
     "exception": false,
     "start_time": "2022-07-01T18:42:08.404946",
     "status": "completed"
    },
    "tags": []
   },
   "outputs": [
    {
     "data": {
      "text/plain": [
       "0       1.614400e+09\n",
       "1       1.614316e+09\n",
       "2       1.613887e+09\n",
       "3       1.613796e+09\n",
       "4       1.613468e+09\n",
       "            ...     \n",
       "1597    1.556223e+09\n",
       "1598    1.556223e+09\n",
       "1599    1.556222e+09\n",
       "1600    1.556221e+09\n",
       "1601    1.556220e+09\n",
       "Name: created, Length: 1602, dtype: float64"
      ]
     },
     "execution_count": 7,
     "metadata": {},
     "output_type": "execute_result"
    }
   ],
   "source": [
    "posts['created']"
   ]
  },
  {
   "cell_type": "code",
   "execution_count": 8,
   "id": "2b9787c6",
   "metadata": {
    "execution": {
     "iopub.execute_input": "2022-07-01T18:42:08.473168Z",
     "iopub.status.busy": "2022-07-01T18:42:08.472325Z",
     "iopub.status.idle": "2022-07-01T18:42:08.483000Z",
     "shell.execute_reply": "2022-07-01T18:42:08.481842Z"
    },
    "papermill": {
     "duration": 0.031607,
     "end_time": "2022-07-01T18:42:08.485570",
     "exception": false,
     "start_time": "2022-07-01T18:42:08.453963",
     "status": "completed"
    },
    "tags": []
   },
   "outputs": [
    {
     "name": "stdout",
     "output_type": "stream",
     "text": [
      "Number of posts: 469 , Number of comments: 1133\n"
     ]
    }
   ],
   "source": [
    "print('Number of posts: {}'.format(1602 - posts.title.value_counts()['Comment']), ', Number of comments: {}'.format(posts.title.value_counts()['Comment']))"
   ]
  },
  {
   "cell_type": "markdown",
   "id": "cb51ab43",
   "metadata": {
    "papermill": {
     "duration": 0.016158,
     "end_time": "2022-07-01T18:42:08.518214",
     "exception": false,
     "start_time": "2022-07-01T18:42:08.502056",
     "status": "completed"
    },
    "tags": []
   },
   "source": [
    "Recall that we had 1133 null values for url. From the above, these must be for the comments. Let us investigate the score column..."
   ]
  },
  {
   "cell_type": "code",
   "execution_count": 9,
   "id": "8a4e49e0",
   "metadata": {
    "execution": {
     "iopub.execute_input": "2022-07-01T18:42:08.553878Z",
     "iopub.status.busy": "2022-07-01T18:42:08.553125Z",
     "iopub.status.idle": "2022-07-01T18:42:08.562318Z",
     "shell.execute_reply": "2022-07-01T18:42:08.561177Z"
    },
    "papermill": {
     "duration": 0.029667,
     "end_time": "2022-07-01T18:42:08.564439",
     "exception": false,
     "start_time": "2022-07-01T18:42:08.534772",
     "status": "completed"
    },
    "tags": []
   },
   "outputs": [
    {
     "data": {
      "text/plain": [
       " 1       666\n",
       " 2       235\n",
       " 0       135\n",
       " 3       126\n",
       " 5        70\n",
       " 4        67\n",
       " 6        60\n",
       " 7        32\n",
       "-1        24\n",
       " 9        21\n",
       " 8        20\n",
       " 10       16\n",
       " 11       16\n",
       " 15       11\n",
       " 12       11\n",
       "-2        11\n",
       " 13       10\n",
       " 16        9\n",
       "-3         7\n",
       " 14        7\n",
       " 17        7\n",
       "-5         5\n",
       " 21        5\n",
       " 20        4\n",
       "-4         4\n",
       " 23        3\n",
       " 22        2\n",
       " 28        2\n",
       "-6         2\n",
       " 19        2\n",
       " 32        2\n",
       " 26        2\n",
       " 24        1\n",
       " 45        1\n",
       " 1187      1\n",
       " 30        1\n",
       " 27        1\n",
       " 38        1\n",
       "-12        1\n",
       "-10        1\n",
       "Name: score, dtype: int64"
      ]
     },
     "execution_count": 9,
     "metadata": {},
     "output_type": "execute_result"
    }
   ],
   "source": [
    "posts.score.value_counts()"
   ]
  },
  {
   "cell_type": "code",
   "execution_count": 10,
   "id": "b5e36fe0",
   "metadata": {
    "execution": {
     "iopub.execute_input": "2022-07-01T18:42:08.599808Z",
     "iopub.status.busy": "2022-07-01T18:42:08.599424Z",
     "iopub.status.idle": "2022-07-01T18:42:08.604752Z",
     "shell.execute_reply": "2022-07-01T18:42:08.603861Z"
    },
    "papermill": {
     "duration": 0.02544,
     "end_time": "2022-07-01T18:42:08.606829",
     "exception": false,
     "start_time": "2022-07-01T18:42:08.581389",
     "status": "completed"
    },
    "tags": []
   },
   "outputs": [],
   "source": [
    "import matplotlib.pyplot as plt"
   ]
  },
  {
   "cell_type": "code",
   "execution_count": 11,
   "id": "f3ec6b48",
   "metadata": {
    "execution": {
     "iopub.execute_input": "2022-07-01T18:42:08.643484Z",
     "iopub.status.busy": "2022-07-01T18:42:08.642537Z",
     "iopub.status.idle": "2022-07-01T18:42:08.650819Z",
     "shell.execute_reply": "2022-07-01T18:42:08.649988Z"
    },
    "papermill": {
     "duration": 0.028728,
     "end_time": "2022-07-01T18:42:08.652884",
     "exception": false,
     "start_time": "2022-07-01T18:42:08.624156",
     "status": "completed"
    },
    "tags": []
   },
   "outputs": [
    {
     "data": {
      "text/plain": [
       "Int64Index([   1,    2,    0,    3,    5,    4,    6,    7,   -1,    9,    8,\n",
       "              10,   11,   15,   12,   -2,   13,   16,   -3,   14,   17,   -5,\n",
       "              21,   20,   -4,   23,   22,   28,   -6,   19,   32,   26,   24,\n",
       "              45, 1187,   30,   27,   38,  -12,  -10],\n",
       "           dtype='int64')"
      ]
     },
     "execution_count": 11,
     "metadata": {},
     "output_type": "execute_result"
    }
   ],
   "source": [
    "posts.score.value_counts().index"
   ]
  },
  {
   "cell_type": "code",
   "execution_count": 12,
   "id": "c68cd609",
   "metadata": {
    "execution": {
     "iopub.execute_input": "2022-07-01T18:42:08.689943Z",
     "iopub.status.busy": "2022-07-01T18:42:08.689228Z",
     "iopub.status.idle": "2022-07-01T18:42:08.934921Z",
     "shell.execute_reply": "2022-07-01T18:42:08.933744Z"
    },
    "papermill": {
     "duration": 0.266749,
     "end_time": "2022-07-01T18:42:08.937364",
     "exception": false,
     "start_time": "2022-07-01T18:42:08.670615",
     "status": "completed"
    },
    "tags": []
   },
   "outputs": [
    {
     "data": {
      "image/png": "[encoded data removed]",
      "text/plain": [
       "<Figure size 432x288 with 1 Axes>"
      ]
     },
     "metadata": {
      "needs_background": "light"
     },
     "output_type": "display_data"
    }
   ],
   "source": [
    "fig, ax = plt.subplots()\n",
    "\n",
    "ax.bar(posts.score.value_counts().index, posts.score.value_counts().values, width=1, edgecolor=\"black\", linewidth=0.7)\n",
    "\n",
    "#ax.set(xlim=(0, 8), xticks=np.arange(1, 8),\n",
    "      # ylim=(0, 8), yticks=np.arange(1, 8))\n",
    "\n",
    "plt.show()"
   ]
  },
  {
   "cell_type": "code",
   "execution_count": 13,
   "id": "0290bd27",
   "metadata": {
    "execution": {
     "iopub.execute_input": "2022-07-01T18:42:08.974260Z",
     "iopub.status.busy": "2022-07-01T18:42:08.973385Z",
     "iopub.status.idle": "2022-07-01T18:42:08.981115Z",
     "shell.execute_reply": "2022-07-01T18:42:08.979711Z"
    },
    "papermill": {
     "duration": 0.028996,
     "end_time": "2022-07-01T18:42:08.983610",
     "exception": false,
     "start_time": "2022-07-01T18:42:08.954614",
     "status": "completed"
    },
    "tags": []
   },
   "outputs": [],
   "source": [
    "scores = posts.score.value_counts()\n",
    "scores_1 = scores.drop(1)\n",
    "score_vals_1 = scores_1.index\n",
    "score_freqs_1 = scores_1.values"
   ]
  },
  {
   "cell_type": "code",
   "execution_count": 14,
   "id": "25a6b68e",
   "metadata": {
    "execution": {
     "iopub.execute_input": "2022-07-01T18:42:09.021050Z",
     "iopub.status.busy": "2022-07-01T18:42:09.020099Z",
     "iopub.status.idle": "2022-07-01T18:42:09.371141Z",
     "shell.execute_reply": "2022-07-01T18:42:09.369217Z"
    },
    "papermill": {
     "duration": 0.373465,
     "end_time": "2022-07-01T18:42:09.374718",
     "exception": false,
     "start_time": "2022-07-01T18:42:09.001253",
     "status": "completed"
    },
    "tags": []
   },
   "outputs": [
    {
     "data": {
      "image/png": "[encoded data removed]",
      "text/plain": [
       "<Figure size 432x288 with 1 Axes>"
      ]
     },
     "metadata": {
      "needs_background": "light"
     },
     "output_type": "display_data"
    }
   ],
   "source": [
    "fig, ax = plt.subplots()\n",
    "\n",
    "ax.bar(score_vals_1, score_freqs_1, width=1, edgecolor=\"black\", linewidth=0.7)\n",
    "\n",
    "\n",
    "plt.show()"
   ]
  },
  {
   "cell_type": "code",
   "execution_count": 15,
   "id": "00833edc",
   "metadata": {
    "execution": {
     "iopub.execute_input": "2022-07-01T18:42:09.413228Z",
     "iopub.status.busy": "2022-07-01T18:42:09.412320Z",
     "iopub.status.idle": "2022-07-01T18:42:09.419162Z",
     "shell.execute_reply": "2022-07-01T18:42:09.417657Z"
    },
    "papermill": {
     "duration": 0.028671,
     "end_time": "2022-07-01T18:42:09.421748",
     "exception": false,
     "start_time": "2022-07-01T18:42:09.393077",
     "status": "completed"
    },
    "tags": []
   },
   "outputs": [
    {
     "name": "stdout",
     "output_type": "stream",
     "text": [
      "1187 -12\n"
     ]
    }
   ],
   "source": [
    "score_vals= scores.index\n",
    "score_freqs = scores.values\n",
    "\n",
    "print(score_vals.max(), score_vals.min())"
   ]
  },
  {
   "cell_type": "code",
   "execution_count": 16,
   "id": "3fedd962",
   "metadata": {
    "execution": {
     "iopub.execute_input": "2022-07-01T18:42:09.459988Z",
     "iopub.status.busy": "2022-07-01T18:42:09.459093Z",
     "iopub.status.idle": "2022-07-01T18:42:09.466166Z",
     "shell.execute_reply": "2022-07-01T18:42:09.464930Z"
    },
    "papermill": {
     "duration": 0.028561,
     "end_time": "2022-07-01T18:42:09.468249",
     "exception": false,
     "start_time": "2022-07-01T18:42:09.439688",
     "status": "completed"
    },
    "tags": []
   },
   "outputs": [
    {
     "name": "stdout",
     "output_type": "stream",
     "text": [
      "3.686641697877653\n"
     ]
    }
   ],
   "source": [
    "mean_score = sum(score_vals*score_freqs)/sum(score_freqs)\n",
    "print(mean_score)"
   ]
  },
  {
   "cell_type": "markdown",
   "id": "b0e635f1",
   "metadata": {
    "papermill": {
     "duration": 0.017484,
     "end_time": "2022-07-01T18:42:09.503715",
     "exception": false,
     "start_time": "2022-07-01T18:42:09.486231",
     "status": "completed"
    },
    "tags": []
   },
   "source": [
    "How does score vary over time? How does it vary over different time scales such as time of day, day of week, year, etc.?"
   ]
  },
  {
   "cell_type": "code",
   "execution_count": 17,
   "id": "8c58cbdf",
   "metadata": {
    "execution": {
     "iopub.execute_input": "2022-07-01T18:42:09.541051Z",
     "iopub.status.busy": "2022-07-01T18:42:09.540367Z",
     "iopub.status.idle": "2022-07-01T18:42:09.546315Z",
     "shell.execute_reply": "2022-07-01T18:42:09.545506Z"
    },
    "papermill": {
     "duration": 0.02715,
     "end_time": "2022-07-01T18:42:09.548488",
     "exception": false,
     "start_time": "2022-07-01T18:42:09.521338",
     "status": "completed"
    },
    "tags": []
   },
   "outputs": [
    {
     "data": {
      "text/plain": [
       "pandas.core.series.Series"
      ]
     },
     "execution_count": 17,
     "metadata": {},
     "output_type": "execute_result"
    }
   ],
   "source": [
    "type(posts.timestamp)"
   ]
  },
  {
   "cell_type": "code",
   "execution_count": 18,
   "id": "452e6d42",
   "metadata": {
    "execution": {
     "iopub.execute_input": "2022-07-01T18:42:09.586324Z",
     "iopub.status.busy": "2022-07-01T18:42:09.585931Z",
     "iopub.status.idle": "2022-07-01T18:42:09.591808Z",
     "shell.execute_reply": "2022-07-01T18:42:09.591038Z"
    },
    "papermill": {
     "duration": 0.027196,
     "end_time": "2022-07-01T18:42:09.593800",
     "exception": false,
     "start_time": "2022-07-01T18:42:09.566604",
     "status": "completed"
    },
    "tags": []
   },
   "outputs": [
    {
     "data": {
      "text/plain": [
       "pandas.core.series.Series"
      ]
     },
     "execution_count": 18,
     "metadata": {},
     "output_type": "execute_result"
    }
   ],
   "source": [
    "type(posts.created)"
   ]
  },
  {
   "cell_type": "code",
   "execution_count": 19,
   "id": "d5c96c2f",
   "metadata": {
    "execution": {
     "iopub.execute_input": "2022-07-01T18:42:09.631959Z",
     "iopub.status.busy": "2022-07-01T18:42:09.631303Z",
     "iopub.status.idle": "2022-07-01T18:42:09.635862Z",
     "shell.execute_reply": "2022-07-01T18:42:09.635152Z"
    },
    "papermill": {
     "duration": 0.026075,
     "end_time": "2022-07-01T18:42:09.637991",
     "exception": false,
     "start_time": "2022-07-01T18:42:09.611916",
     "status": "completed"
    },
    "tags": []
   },
   "outputs": [],
   "source": [
    "score_col = posts.score\n",
    "created = posts.created"
   ]
  },
  {
   "cell_type": "code",
   "execution_count": 20,
   "id": "ab07004f",
   "metadata": {
    "execution": {
     "iopub.execute_input": "2022-07-01T18:42:09.676306Z",
     "iopub.status.busy": "2022-07-01T18:42:09.675909Z",
     "iopub.status.idle": "2022-07-01T18:42:12.767934Z",
     "shell.execute_reply": "2022-07-01T18:42:12.766498Z"
    },
    "papermill": {
     "duration": 3.114877,
     "end_time": "2022-07-01T18:42:12.771070",
     "exception": false,
     "start_time": "2022-07-01T18:42:09.656193",
     "status": "completed"
    },
    "tags": []
   },
   "outputs": [
    {
     "data": {
      "image/png": "[encoded data removed]",
      "text/plain": [
       "<Figure size 432x288 with 1 Axes>"
      ]
     },
     "metadata": {
      "needs_background": "light"
     },
     "output_type": "display_data"
    }
   ],
   "source": [
    "fig, ax = plt.subplots()\n",
    "\n",
    "ax.bar(created, score_col, width=1, edgecolor=\"black\", linewidth=0.7)\n",
    "\n",
    "\n",
    "plt.show()"
   ]
  },
  {
   "cell_type": "code",
   "execution_count": 21,
   "id": "a14bb38f",
   "metadata": {
    "execution": {
     "iopub.execute_input": "2022-07-01T18:42:12.810394Z",
     "iopub.status.busy": "2022-07-01T18:42:12.809975Z",
     "iopub.status.idle": "2022-07-01T18:42:12.996151Z",
     "shell.execute_reply": "2022-07-01T18:42:12.994792Z"
    },
    "papermill": {
     "duration": 0.208987,
     "end_time": "2022-07-01T18:42:12.998854",
     "exception": false,
     "start_time": "2022-07-01T18:42:12.789867",
     "status": "completed"
    },
    "tags": []
   },
   "outputs": [
    {
     "data": {
      "image/png": "[encoded data removed]",
      "text/plain": [
       "<Figure size 432x288 with 1 Axes>"
      ]
     },
     "metadata": {
      "needs_background": "light"
     },
     "output_type": "display_data"
    }
   ],
   "source": [
    "fig, ax = plt.subplots()\n",
    "\n",
    "ax.plot(created[0:7],score_col[0:7],linewidth=1)\n",
    "\n",
    "plt.grid(visible=True)\n",
    "\n",
    "plt.show()"
   ]
  },
  {
   "cell_type": "markdown",
   "id": "3b0e8be9",
   "metadata": {
    "papermill": {
     "duration": 0.017919,
     "end_time": "2022-07-01T18:42:13.035219",
     "exception": false,
     "start_time": "2022-07-01T18:42:13.017300",
     "status": "completed"
    },
    "tags": []
   },
   "source": [
    "Let's look at averages"
   ]
  },
  {
   "cell_type": "code",
   "execution_count": 22,
   "id": "02d75a46",
   "metadata": {
    "execution": {
     "iopub.execute_input": "2022-07-01T18:42:13.073069Z",
     "iopub.status.busy": "2022-07-01T18:42:13.072719Z",
     "iopub.status.idle": "2022-07-01T18:42:13.297433Z",
     "shell.execute_reply": "2022-07-01T18:42:13.296155Z"
    },
    "papermill": {
     "duration": 0.247135,
     "end_time": "2022-07-01T18:42:13.300372",
     "exception": false,
     "start_time": "2022-07-01T18:42:13.053237",
     "status": "completed"
    },
    "tags": []
   },
   "outputs": [],
   "source": [
    "scores_10_avg = []\n",
    "i=0\n",
    "while i+10<len(posts.id):\n",
    "    score_sum=0\n",
    "    for j in range(i, i+10):\n",
    "        score_sum+=posts.score[j]\n",
    "    score_avg = score_sum/10\n",
    "    scores_10_avg.append(score_avg)\n",
    "    i+=1\n",
    "\n"
   ]
  },
  {
   "cell_type": "code",
   "execution_count": 23,
   "id": "e3ecf873",
   "metadata": {
    "execution": {
     "iopub.execute_input": "2022-07-01T18:42:13.339091Z",
     "iopub.status.busy": "2022-07-01T18:42:13.338718Z",
     "iopub.status.idle": "2022-07-01T18:42:13.346149Z",
     "shell.execute_reply": "2022-07-01T18:42:13.344928Z"
    },
    "papermill": {
     "duration": 0.029436,
     "end_time": "2022-07-01T18:42:13.348475",
     "exception": false,
     "start_time": "2022-07-01T18:42:13.319039",
     "status": "completed"
    },
    "tags": []
   },
   "outputs": [],
   "source": [
    "scores_10_avg_series = pd.Series(x for x in scores_10_avg)"
   ]
  },
  {
   "cell_type": "code",
   "execution_count": 24,
   "id": "1422a18c",
   "metadata": {
    "execution": {
     "iopub.execute_input": "2022-07-01T18:42:13.386997Z",
     "iopub.status.busy": "2022-07-01T18:42:13.386551Z",
     "iopub.status.idle": "2022-07-01T18:42:13.581674Z",
     "shell.execute_reply": "2022-07-01T18:42:13.580206Z"
    },
    "papermill": {
     "duration": 0.217736,
     "end_time": "2022-07-01T18:42:13.584255",
     "exception": false,
     "start_time": "2022-07-01T18:42:13.366519",
     "status": "completed"
    },
    "tags": []
   },
   "outputs": [
    {
     "data": {
      "text/plain": [
       "[<matplotlib.lines.Line2D at 0x7fa0bf970a50>]"
      ]
     },
     "execution_count": 24,
     "metadata": {},
     "output_type": "execute_result"
    },
    {
     "data": {
      "image/png": "[encoded data removed]",
      "text/plain": [
       "<Figure size 432x288 with 1 Axes>"
      ]
     },
     "metadata": {
      "needs_background": "light"
     },
     "output_type": "display_data"
    }
   ],
   "source": [
    "plt.plot(scores_10_avg_series)"
   ]
  },
  {
   "cell_type": "markdown",
   "id": "96996ae5",
   "metadata": {
    "papermill": {
     "duration": 0.018492,
     "end_time": "2022-07-01T18:42:13.621253",
     "exception": false,
     "start_time": "2022-07-01T18:42:13.602761",
     "status": "completed"
    },
    "tags": []
   },
   "source": [
    "After a large spike, seems to remain fairly stable. What could have caused the spike? Perhaps there was a particular disease that was gaining wide public attention at the time and there was a lot of scepticism about it? "
   ]
  },
  {
   "cell_type": "code",
   "execution_count": 25,
   "id": "ac27f8b2",
   "metadata": {
    "execution": {
     "iopub.execute_input": "2022-07-01T18:42:13.661459Z",
     "iopub.status.busy": "2022-07-01T18:42:13.659984Z",
     "iopub.status.idle": "2022-07-01T18:42:13.667145Z",
     "shell.execute_reply": "2022-07-01T18:42:13.666344Z"
    },
    "papermill": {
     "duration": 0.029671,
     "end_time": "2022-07-01T18:42:13.669331",
     "exception": false,
     "start_time": "2022-07-01T18:42:13.639660",
     "status": "completed"
    },
    "tags": []
   },
   "outputs": [
    {
     "data": {
      "text/plain": [
       "128.6"
      ]
     },
     "execution_count": 25,
     "metadata": {},
     "output_type": "execute_result"
    }
   ],
   "source": [
    "scores_10_avg_series.max()"
   ]
  },
  {
   "cell_type": "code",
   "execution_count": 26,
   "id": "75d4f3dc",
   "metadata": {
    "execution": {
     "iopub.execute_input": "2022-07-01T18:42:13.710128Z",
     "iopub.status.busy": "2022-07-01T18:42:13.709373Z",
     "iopub.status.idle": "2022-07-01T18:42:13.717025Z",
     "shell.execute_reply": "2022-07-01T18:42:13.715979Z"
    },
    "papermill": {
     "duration": 0.030349,
     "end_time": "2022-07-01T18:42:13.719370",
     "exception": false,
     "start_time": "2022-07-01T18:42:13.689021",
     "status": "completed"
    },
    "tags": []
   },
   "outputs": [
    {
     "data": {
      "text/plain": [
       "503"
      ]
     },
     "execution_count": 26,
     "metadata": {},
     "output_type": "execute_result"
    }
   ],
   "source": [
    "scores_10_avg_series[scores_10_avg_series==128.6].index[0]"
   ]
  },
  {
   "cell_type": "code",
   "execution_count": 27,
   "id": "7a870571",
   "metadata": {
    "execution": {
     "iopub.execute_input": "2022-07-01T18:42:13.758986Z",
     "iopub.status.busy": "2022-07-01T18:42:13.758202Z",
     "iopub.status.idle": "2022-07-01T18:42:13.765471Z",
     "shell.execute_reply": "2022-07-01T18:42:13.764475Z"
    },
    "papermill": {
     "duration": 0.029566,
     "end_time": "2022-07-01T18:42:13.767553",
     "exception": false,
     "start_time": "2022-07-01T18:42:13.737987",
     "status": "completed"
    },
    "tags": []
   },
   "outputs": [
    {
     "data": {
      "text/plain": [
       "'2014-04-04 04:45:57'"
      ]
     },
     "execution_count": 27,
     "metadata": {},
     "output_type": "execute_result"
    }
   ],
   "source": [
    "posts.timestamp[503]"
   ]
  },
  {
   "cell_type": "markdown",
   "id": "c1ac805a",
   "metadata": {
    "papermill": {
     "duration": 0.018574,
     "end_time": "2022-07-01T18:42:13.805339",
     "exception": false,
     "start_time": "2022-07-01T18:42:13.786765",
     "status": "completed"
    },
    "tags": []
   },
   "source": [
    "Seems like the spike was around early-2014. "
   ]
  },
  {
   "cell_type": "code",
   "execution_count": 28,
   "id": "02d5667c",
   "metadata": {
    "execution": {
     "iopub.execute_input": "2022-07-01T18:42:13.845581Z",
     "iopub.status.busy": "2022-07-01T18:42:13.844607Z",
     "iopub.status.idle": "2022-07-01T18:42:15.615793Z",
     "shell.execute_reply": "2022-07-01T18:42:15.614823Z"
    },
    "papermill": {
     "duration": 1.794344,
     "end_time": "2022-07-01T18:42:15.618434",
     "exception": false,
     "start_time": "2022-07-01T18:42:13.824090",
     "status": "completed"
    },
    "tags": []
   },
   "outputs": [],
   "source": [
    "import nltk"
   ]
  },
  {
   "cell_type": "code",
   "execution_count": 29,
   "id": "b0233904",
   "metadata": {
    "execution": {
     "iopub.execute_input": "2022-07-01T18:42:15.659524Z",
     "iopub.status.busy": "2022-07-01T18:42:15.658351Z",
     "iopub.status.idle": "2022-07-01T18:42:15.663325Z",
     "shell.execute_reply": "2022-07-01T18:42:15.662468Z"
    },
    "papermill": {
     "duration": 0.027675,
     "end_time": "2022-07-01T18:42:15.665390",
     "exception": false,
     "start_time": "2022-07-01T18:42:15.637715",
     "status": "completed"
    },
    "tags": []
   },
   "outputs": [],
   "source": [
    "text = posts.title"
   ]
  },
  {
   "cell_type": "code",
   "execution_count": 30,
   "id": "b225b6a6",
   "metadata": {
    "execution": {
     "iopub.execute_input": "2022-07-01T18:42:15.707628Z",
     "iopub.status.busy": "2022-07-01T18:42:15.706865Z",
     "iopub.status.idle": "2022-07-01T18:42:15.713099Z",
     "shell.execute_reply": "2022-07-01T18:42:15.712341Z"
    },
    "papermill": {
     "duration": 0.02998,
     "end_time": "2022-07-01T18:42:15.715539",
     "exception": false,
     "start_time": "2022-07-01T18:42:15.685559",
     "status": "completed"
    },
    "tags": []
   },
   "outputs": [
    {
     "data": {
      "text/plain": [
       "array(['Health Canada approves AstraZeneca COVID-19 vaccine',\n",
       "       \"COVID-19 in Canada: 'Vaccination passports' a near certainty says bio-ethicist\",\n",
       "       \"Coronavirus variants could fuel Canada's third wave\", ...,\n",
       "       'Comment', 'Comment', 'Comment'], dtype=object)"
      ]
     },
     "execution_count": 30,
     "metadata": {},
     "output_type": "execute_result"
    }
   ],
   "source": [
    "text.values"
   ]
  },
  {
   "cell_type": "code",
   "execution_count": 31,
   "id": "1507df61",
   "metadata": {
    "execution": {
     "iopub.execute_input": "2022-07-01T18:42:15.757806Z",
     "iopub.status.busy": "2022-07-01T18:42:15.757094Z",
     "iopub.status.idle": "2022-07-01T18:42:15.764236Z",
     "shell.execute_reply": "2022-07-01T18:42:15.763363Z"
    },
    "papermill": {
     "duration": 0.030122,
     "end_time": "2022-07-01T18:42:15.766351",
     "exception": false,
     "start_time": "2022-07-01T18:42:15.736229",
     "status": "completed"
    },
    "tags": []
   },
   "outputs": [
    {
     "data": {
      "text/plain": [
       "'If we need to tokenise the post text, we can do so using the following:\\n\\n#Let\\'s first make all text lower case and remove stopwords:\\n\\nnltk.download([\"stopwords\"])\\n\\nfor i in range(0,len(text)):\\n    text[i]=text.values[i].lower()\\n    \\nstopwords = nltk.corpus.stopwords.words(\"english\")\\n\\nfor index, comment in enumerate(text.values):\\n    text = text.apply(lambda x: \\' \\'.join([word for word in x.split() if word not in (stopwords)]))\\n    \\ntext = text.str.replace(r\\'[^\\\\w\\\\s]+\\', \\'\\')\\n\\n\\n\\ntokens = []\\n\\nfor i in range(0,len(text)):\\n    temp_tokens = nltk.word_tokenize(text[i])\\n    tokens+=temp_tokens\\n\\n#Now remove duplicates\\n\\ntokens = list(set(tokens))\\ntokens.remove(\\'comment\\')\\n\\n#print(tokens)\\n'"
      ]
     },
     "execution_count": 31,
     "metadata": {},
     "output_type": "execute_result"
    }
   ],
   "source": [
    "\"\"\"If we need to tokenise the post text, we can do so using the following:\n",
    "\n",
    "#Let's first make all text lower case and remove stopwords:\n",
    "\n",
    "nltk.download([\"stopwords\"])\n",
    "\n",
    "for i in range(0,len(text)):\n",
    "    text[i]=text.values[i].lower()\n",
    "    \n",
    "stopwords = nltk.corpus.stopwords.words(\"english\")\n",
    "\n",
    "for index, comment in enumerate(text.values):\n",
    "    text = text.apply(lambda x: ' '.join([word for word in x.split() if word not in (stopwords)]))\n",
    "    \n",
    "text = text.str.replace(r'[^\\w\\s]+', '')\n",
    "\n",
    "\n",
    "\n",
    "tokens = []\n",
    "\n",
    "for i in range(0,len(text)):\n",
    "    temp_tokens = nltk.word_tokenize(text[i])\n",
    "    tokens+=temp_tokens\n",
    "\n",
    "#Now remove duplicates\n",
    "\n",
    "tokens = list(set(tokens))\n",
    "tokens.remove('comment')\n",
    "\n",
    "#print(tokens)\n",
    "\"\"\""
   ]
  },
  {
   "cell_type": "code",
   "execution_count": 32,
   "id": "0b3703b2",
   "metadata": {
    "execution": {
     "iopub.execute_input": "2022-07-01T18:42:15.807863Z",
     "iopub.status.busy": "2022-07-01T18:42:15.807177Z",
     "iopub.status.idle": "2022-07-01T18:42:15.848806Z",
     "shell.execute_reply": "2022-07-01T18:42:15.847791Z"
    },
    "papermill": {
     "duration": 0.065508,
     "end_time": "2022-07-01T18:42:15.851623",
     "exception": false,
     "start_time": "2022-07-01T18:42:15.786115",
     "status": "completed"
    },
    "tags": []
   },
   "outputs": [
    {
     "name": "stderr",
     "output_type": "stream",
     "text": [
      "/opt/conda/lib/python3.7/site-packages/nltk/twitter/__init__.py:20: UserWarning: The twython library has not been installed. Some functionality from the twitter package will not be available.\n",
      "  warnings.warn(\"The twython library has not been installed. \"\n"
     ]
    }
   ],
   "source": [
    "from nltk.sentiment import SentimentIntensityAnalyzer\n",
    "sia = SentimentIntensityAnalyzer()\n",
    "from statistics import mean"
   ]
  },
  {
   "cell_type": "markdown",
   "id": "414946ab",
   "metadata": {
    "execution": {
     "iopub.execute_input": "2022-07-01T17:03:14.691392Z",
     "iopub.status.busy": "2022-07-01T17:03:14.690591Z",
     "iopub.status.idle": "2022-07-01T17:03:14.698285Z",
     "shell.execute_reply": "2022-07-01T17:03:14.697253Z",
     "shell.execute_reply.started": "2022-07-01T17:03:14.691353Z"
    },
    "papermill": {
     "duration": 0.019227,
     "end_time": "2022-07-01T18:42:15.891474",
     "exception": false,
     "start_time": "2022-07-01T18:42:15.872247",
     "status": "completed"
    },
    "tags": []
   },
   "source": [
    "We will use NLTKs in-built sentiment analyser. This usually works best on short text inputs, which we do indeed have. If we had longer blocks of text, we could use NLTKs sentence tokeniser to compute the sentiment for each sentence and then average for a given block of text. "
   ]
  },
  {
   "cell_type": "code",
   "execution_count": 33,
   "id": "38d3d789",
   "metadata": {
    "execution": {
     "iopub.execute_input": "2022-07-01T18:42:15.933480Z",
     "iopub.status.busy": "2022-07-01T18:42:15.931907Z",
     "iopub.status.idle": "2022-07-01T18:42:15.938793Z",
     "shell.execute_reply": "2022-07-01T18:42:15.937788Z"
    },
    "papermill": {
     "duration": 0.029767,
     "end_time": "2022-07-01T18:42:15.940917",
     "exception": false,
     "start_time": "2022-07-01T18:42:15.911150",
     "status": "completed"
    },
    "tags": []
   },
   "outputs": [],
   "source": [
    "def is_positive(post: str) -> bool:\n",
    "    \"\"\"True if the score is positive.\"\"\"\n",
    "    score = sia.polarity_scores(post)[\"compound\"]\n",
    "    return score > 0"
   ]
  },
  {
   "cell_type": "code",
   "execution_count": 34,
   "id": "06653f5d",
   "metadata": {
    "execution": {
     "iopub.execute_input": "2022-07-01T18:42:15.983578Z",
     "iopub.status.busy": "2022-07-01T18:42:15.982381Z",
     "iopub.status.idle": "2022-07-01T18:42:15.990548Z",
     "shell.execute_reply": "2022-07-01T18:42:15.989441Z"
    },
    "papermill": {
     "duration": 0.03133,
     "end_time": "2022-07-01T18:42:15.992837",
     "exception": false,
     "start_time": "2022-07-01T18:42:15.961507",
     "status": "completed"
    },
    "tags": []
   },
   "outputs": [
    {
     "data": {
      "text/plain": [
       "\"COVID-19 in Canada: 'Vaccination passports' a near certainty says bio-ethicist\""
      ]
     },
     "execution_count": 34,
     "metadata": {},
     "output_type": "execute_result"
    }
   ],
   "source": [
    "text[1]"
   ]
  },
  {
   "cell_type": "markdown",
   "id": "3f330e01",
   "metadata": {
    "papermill": {
     "duration": 0.020353,
     "end_time": "2022-07-01T18:42:16.033377",
     "exception": false,
     "start_time": "2022-07-01T18:42:16.013024",
     "status": "completed"
    },
    "tags": []
   },
   "source": [
    "Let's first simply see how many positive vs negative posts there are..."
   ]
  },
  {
   "cell_type": "code",
   "execution_count": 35,
   "id": "75ccd655",
   "metadata": {
    "execution": {
     "iopub.execute_input": "2022-07-01T18:42:16.074843Z",
     "iopub.status.busy": "2022-07-01T18:42:16.074430Z",
     "iopub.status.idle": "2022-07-01T18:42:16.082085Z",
     "shell.execute_reply": "2022-07-01T18:42:16.080882Z"
    },
    "papermill": {
     "duration": 0.03096,
     "end_time": "2022-07-01T18:42:16.084442",
     "exception": false,
     "start_time": "2022-07-01T18:42:16.053482",
     "status": "completed"
    },
    "tags": []
   },
   "outputs": [],
   "source": [
    "#Only rows which correspond to posts and not comments\n",
    "\n",
    "posts2 = posts[posts.title!= \"Comment\"].title"
   ]
  },
  {
   "cell_type": "code",
   "execution_count": 36,
   "id": "09c5f3a3",
   "metadata": {
    "execution": {
     "iopub.execute_input": "2022-07-01T18:42:16.125655Z",
     "iopub.status.busy": "2022-07-01T18:42:16.125199Z",
     "iopub.status.idle": "2022-07-01T18:42:16.253778Z",
     "shell.execute_reply": "2022-07-01T18:42:16.252335Z"
    },
    "papermill": {
     "duration": 0.152745,
     "end_time": "2022-07-01T18:42:16.256778",
     "exception": false,
     "start_time": "2022-07-01T18:42:16.104033",
     "status": "completed"
    },
    "tags": []
   },
   "outputs": [],
   "source": [
    "pos_sent = []\n",
    "\n",
    "for post in posts2: \n",
    "    score = sia.polarity_scores(post)[\"compound\"]\n",
    "    if score>0:\n",
    "        pos_sent.append(1)\n",
    "    elif score==0:\n",
    "        pos_sent.append(0)\n",
    "    else: \n",
    "        pos_sent.append(-1)"
   ]
  },
  {
   "cell_type": "code",
   "execution_count": 37,
   "id": "e0e19b99",
   "metadata": {
    "execution": {
     "iopub.execute_input": "2022-07-01T18:42:16.298619Z",
     "iopub.status.busy": "2022-07-01T18:42:16.298162Z",
     "iopub.status.idle": "2022-07-01T18:42:16.304563Z",
     "shell.execute_reply": "2022-07-01T18:42:16.303072Z"
    },
    "papermill": {
     "duration": 0.030084,
     "end_time": "2022-07-01T18:42:16.306872",
     "exception": false,
     "start_time": "2022-07-01T18:42:16.276788",
     "status": "completed"
    },
    "tags": []
   },
   "outputs": [],
   "source": [
    "labels, frequencies = np.unique(pos_sent, return_counts=True)"
   ]
  },
  {
   "cell_type": "code",
   "execution_count": 38,
   "id": "e701e1fa",
   "metadata": {
    "execution": {
     "iopub.execute_input": "2022-07-01T18:42:16.348762Z",
     "iopub.status.busy": "2022-07-01T18:42:16.348324Z",
     "iopub.status.idle": "2022-07-01T18:42:16.466383Z",
     "shell.execute_reply": "2022-07-01T18:42:16.465006Z"
    },
    "papermill": {
     "duration": 0.142952,
     "end_time": "2022-07-01T18:42:16.470026",
     "exception": false,
     "start_time": "2022-07-01T18:42:16.327074",
     "status": "completed"
    },
    "tags": []
   },
   "outputs": [
    {
     "data": {
      "image/png": "[encoded data removed]",
      "text/plain": [
       "<Figure size 360x360 with 1 Axes>"
      ]
     },
     "metadata": {},
     "output_type": "display_data"
    }
   ],
   "source": [
    "plt.figure(figsize = (5,5))\n",
    "plt.pie(frequencies, labels=labels, autopct = '%1.1f%%')\n",
    "plt.show()"
   ]
  },
  {
   "cell_type": "markdown",
   "id": "56d8ba35",
   "metadata": {
    "papermill": {
     "duration": 0.038544,
     "end_time": "2022-07-01T18:42:16.545368",
     "exception": false,
     "start_time": "2022-07-01T18:42:16.506824",
     "status": "completed"
    },
    "tags": []
   },
   "source": [
    "Thus, negative comments have the highest representation, but not by much. Overall, the distribution is fairly even. Let's look at the actual scores more closely.  "
   ]
  },
  {
   "cell_type": "code",
   "execution_count": 39,
   "id": "d8a919fa",
   "metadata": {
    "execution": {
     "iopub.execute_input": "2022-07-01T18:42:16.589906Z",
     "iopub.status.busy": "2022-07-01T18:42:16.589221Z",
     "iopub.status.idle": "2022-07-01T18:42:16.717173Z",
     "shell.execute_reply": "2022-07-01T18:42:16.715825Z"
    },
    "papermill": {
     "duration": 0.153095,
     "end_time": "2022-07-01T18:42:16.720055",
     "exception": false,
     "start_time": "2022-07-01T18:42:16.566960",
     "status": "completed"
    },
    "tags": []
   },
   "outputs": [],
   "source": [
    "sentiment = []\n",
    "\n",
    "for post in posts2: \n",
    "    sentiment.append(sia.polarity_scores(post)[\"compound\"])"
   ]
  },
  {
   "cell_type": "code",
   "execution_count": 40,
   "id": "f69b99e2",
   "metadata": {
    "execution": {
     "iopub.execute_input": "2022-07-01T18:42:16.761303Z",
     "iopub.status.busy": "2022-07-01T18:42:16.760812Z",
     "iopub.status.idle": "2022-07-01T18:42:16.767787Z",
     "shell.execute_reply": "2022-07-01T18:42:16.767048Z"
    },
    "papermill": {
     "duration": 0.030066,
     "end_time": "2022-07-01T18:42:16.769747",
     "exception": false,
     "start_time": "2022-07-01T18:42:16.739681",
     "status": "completed"
    },
    "tags": []
   },
   "outputs": [
    {
     "data": {
      "text/plain": [
       "-0.060534328358208954"
      ]
     },
     "execution_count": 40,
     "metadata": {},
     "output_type": "execute_result"
    }
   ],
   "source": [
    "mean(sentiment)"
   ]
  },
  {
   "cell_type": "markdown",
   "id": "0b31905e",
   "metadata": {
    "papermill": {
     "duration": 0.019936,
     "end_time": "2022-07-01T18:42:16.812037",
     "exception": false,
     "start_time": "2022-07-01T18:42:16.792101",
     "status": "completed"
    },
    "tags": []
   },
   "source": [
    "Mean is negative, but very close to zero."
   ]
  },
  {
   "cell_type": "code",
   "execution_count": 41,
   "id": "0aacbfec",
   "metadata": {
    "execution": {
     "iopub.execute_input": "2022-07-01T18:42:16.854465Z",
     "iopub.status.busy": "2022-07-01T18:42:16.853801Z",
     "iopub.status.idle": "2022-07-01T18:42:16.859549Z",
     "shell.execute_reply": "2022-07-01T18:42:16.858797Z"
    },
    "papermill": {
     "duration": 0.029339,
     "end_time": "2022-07-01T18:42:16.861648",
     "exception": false,
     "start_time": "2022-07-01T18:42:16.832309",
     "status": "completed"
    },
    "tags": []
   },
   "outputs": [],
   "source": [
    "timestamp_comm = posts[posts.title!= \"Comment\"].timestamp"
   ]
  },
  {
   "cell_type": "code",
   "execution_count": 42,
   "id": "429f3402",
   "metadata": {
    "execution": {
     "iopub.execute_input": "2022-07-01T18:42:16.904015Z",
     "iopub.status.busy": "2022-07-01T18:42:16.903368Z",
     "iopub.status.idle": "2022-07-01T18:42:23.322645Z",
     "shell.execute_reply": "2022-07-01T18:42:23.321446Z"
    },
    "papermill": {
     "duration": 6.443495,
     "end_time": "2022-07-01T18:42:23.325312",
     "exception": false,
     "start_time": "2022-07-01T18:42:16.881817",
     "status": "completed"
    },
    "tags": []
   },
   "outputs": [
    {
     "data": {
      "image/png": "[encoded data removed]",
      "text/plain": [
       "<Figure size 432x288 with 1 Axes>"
      ]
     },
     "metadata": {
      "needs_background": "light"
     },
     "output_type": "display_data"
    }
   ],
   "source": [
    "fig, ax = plt.subplots()\n",
    "\n",
    "ax.plot(timestamp_comm,sentiment,linewidth=1)\n",
    "\n",
    "plt.grid(visible=True)\n",
    "\n",
    "plt.show()"
   ]
  },
  {
   "cell_type": "markdown",
   "id": "c7a67072",
   "metadata": {
    "papermill": {
     "duration": 0.021017,
     "end_time": "2022-07-01T18:42:23.367860",
     "exception": false,
     "start_time": "2022-07-01T18:42:23.346843",
     "status": "completed"
    },
    "tags": []
   },
   "source": [
    "Doesn't seem to be any overall trend. Let's add sentiment to the dataframe to make it easier to analyse:"
   ]
  },
  {
   "cell_type": "code",
   "execution_count": 43,
   "id": "7e3be7d2",
   "metadata": {
    "execution": {
     "iopub.execute_input": "2022-07-01T18:42:23.412222Z",
     "iopub.status.busy": "2022-07-01T18:42:23.411828Z",
     "iopub.status.idle": "2022-07-01T18:42:23.420131Z",
     "shell.execute_reply": "2022-07-01T18:42:23.419070Z"
    },
    "papermill": {
     "duration": 0.03395,
     "end_time": "2022-07-01T18:42:23.423171",
     "exception": false,
     "start_time": "2022-07-01T18:42:23.389221",
     "status": "completed"
    },
    "tags": []
   },
   "outputs": [
    {
     "name": "stderr",
     "output_type": "stream",
     "text": [
      "/opt/conda/lib/python3.7/site-packages/ipykernel_launcher.py:3: SettingWithCopyWarning: \n",
      "A value is trying to be set on a copy of a slice from a DataFrame.\n",
      "Try using .loc[row_indexer,col_indexer] = value instead\n",
      "\n",
      "See the caveats in the documentation: https://pandas.pydata.org/pandas-docs/stable/user_guide/indexing.html#returning-a-view-versus-a-copy\n",
      "  This is separate from the ipykernel package so we can avoid doing imports until\n"
     ]
    }
   ],
   "source": [
    "posts_data = posts[posts.title!= \"Comment\"]\n",
    "\n",
    "posts_data['sentiment'] = sentiment"
   ]
  },
  {
   "cell_type": "code",
   "execution_count": 44,
   "id": "bb974e6d",
   "metadata": {
    "execution": {
     "iopub.execute_input": "2022-07-01T18:42:23.468189Z",
     "iopub.status.busy": "2022-07-01T18:42:23.467802Z",
     "iopub.status.idle": "2022-07-01T18:42:23.485015Z",
     "shell.execute_reply": "2022-07-01T18:42:23.483676Z"
    },
    "papermill": {
     "duration": 0.042227,
     "end_time": "2022-07-01T18:42:23.487592",
     "exception": false,
     "start_time": "2022-07-01T18:42:23.445365",
     "status": "completed"
    },
    "tags": []
   },
   "outputs": [
    {
     "data": {
      "text/html": [
       "<div>\n",
       "<style scoped>\n",
       "    .dataframe tbody tr th:only-of-type {\n",
       "        vertical-align: middle;\n",
       "    }\n",
       "\n",
       "    .dataframe tbody tr th {\n",
       "        vertical-align: top;\n",
       "    }\n",
       "\n",
       "    .dataframe thead th {\n",
       "        text-align: right;\n",
       "    }\n",
       "</style>\n",
       "<table border=\"1\" class=\"dataframe\">\n",
       "  <thead>\n",
       "    <tr style=\"text-align: right;\">\n",
       "      <th></th>\n",
       "      <th>title</th>\n",
       "      <th>score</th>\n",
       "      <th>id</th>\n",
       "      <th>url</th>\n",
       "      <th>comms_num</th>\n",
       "      <th>created</th>\n",
       "      <th>body</th>\n",
       "      <th>timestamp</th>\n",
       "      <th>sentiment</th>\n",
       "    </tr>\n",
       "  </thead>\n",
       "  <tbody>\n",
       "    <tr>\n",
       "      <th>0</th>\n",
       "      <td>Health Canada approves AstraZeneca COVID-19 va...</td>\n",
       "      <td>7</td>\n",
       "      <td>lt74vw</td>\n",
       "      <td>https://www.canadaforums.ca/2021/02/health-can...</td>\n",
       "      <td>0</td>\n",
       "      <td>1.614400e+09</td>\n",
       "      <td>NaN</td>\n",
       "      <td>2021-02-27 06:33:45</td>\n",
       "      <td>0.4019</td>\n",
       "    </tr>\n",
       "    <tr>\n",
       "      <th>1</th>\n",
       "      <td>COVID-19 in Canada: 'Vaccination passports' a ...</td>\n",
       "      <td>2</td>\n",
       "      <td>lsh0ij</td>\n",
       "      <td>https://www.canadaforums.ca/2021/02/covid-19-i...</td>\n",
       "      <td>1</td>\n",
       "      <td>1.614316e+09</td>\n",
       "      <td>NaN</td>\n",
       "      <td>2021-02-26 07:11:07</td>\n",
       "      <td>0.2500</td>\n",
       "    </tr>\n",
       "    <tr>\n",
       "      <th>2</th>\n",
       "      <td>Coronavirus variants could fuel Canada's third...</td>\n",
       "      <td>6</td>\n",
       "      <td>lohlle</td>\n",
       "      <td>https://www.canadaforums.ca/2021/02/coronaviru...</td>\n",
       "      <td>0</td>\n",
       "      <td>1.613887e+09</td>\n",
       "      <td>NaN</td>\n",
       "      <td>2021-02-21 07:50:08</td>\n",
       "      <td>0.0000</td>\n",
       "    </tr>\n",
       "    <tr>\n",
       "      <th>3</th>\n",
       "      <td>Canadian government to extend COVID-19 emergen...</td>\n",
       "      <td>1</td>\n",
       "      <td>lnptv8</td>\n",
       "      <td>https://www.canadaforums.ca/2021/02/canadian-g...</td>\n",
       "      <td>0</td>\n",
       "      <td>1.613796e+09</td>\n",
       "      <td>NaN</td>\n",
       "      <td>2021-02-20 06:35:13</td>\n",
       "      <td>0.1779</td>\n",
       "    </tr>\n",
       "    <tr>\n",
       "      <th>4</th>\n",
       "      <td>Canada: Pfizer is 'extremely committed' to mee...</td>\n",
       "      <td>6</td>\n",
       "      <td>lkslm6</td>\n",
       "      <td>https://www.canadaforums.ca/2021/02/canada-pfi...</td>\n",
       "      <td>0</td>\n",
       "      <td>1.613468e+09</td>\n",
       "      <td>NaN</td>\n",
       "      <td>2021-02-16 11:36:28</td>\n",
       "      <td>0.3384</td>\n",
       "    </tr>\n",
       "  </tbody>\n",
       "</table>\n",
       "</div>"
      ],
      "text/plain": [
       "                                               title  score      id  \\\n",
       "0  Health Canada approves AstraZeneca COVID-19 va...      7  lt74vw   \n",
       "1  COVID-19 in Canada: 'Vaccination passports' a ...      2  lsh0ij   \n",
       "2  Coronavirus variants could fuel Canada's third...      6  lohlle   \n",
       "3  Canadian government to extend COVID-19 emergen...      1  lnptv8   \n",
       "4  Canada: Pfizer is 'extremely committed' to mee...      6  lkslm6   \n",
       "\n",
       "                                                 url  comms_num       created  \\\n",
       "0  https://www.canadaforums.ca/2021/02/health-can...          0  1.614400e+09   \n",
       "1  https://www.canadaforums.ca/2021/02/covid-19-i...          1  1.614316e+09   \n",
       "2  https://www.canadaforums.ca/2021/02/coronaviru...          0  1.613887e+09   \n",
       "3  https://www.canadaforums.ca/2021/02/canadian-g...          0  1.613796e+09   \n",
       "4  https://www.canadaforums.ca/2021/02/canada-pfi...          0  1.613468e+09   \n",
       "\n",
       "  body            timestamp  sentiment  \n",
       "0  NaN  2021-02-27 06:33:45     0.4019  \n",
       "1  NaN  2021-02-26 07:11:07     0.2500  \n",
       "2  NaN  2021-02-21 07:50:08     0.0000  \n",
       "3  NaN  2021-02-20 06:35:13     0.1779  \n",
       "4  NaN  2021-02-16 11:36:28     0.3384  "
      ]
     },
     "execution_count": 44,
     "metadata": {},
     "output_type": "execute_result"
    }
   ],
   "source": [
    "posts_data.head()"
   ]
  },
  {
   "cell_type": "code",
   "execution_count": 45,
   "id": "0bc270e6",
   "metadata": {
    "execution": {
     "iopub.execute_input": "2022-07-01T18:42:23.532713Z",
     "iopub.status.busy": "2022-07-01T18:42:23.532255Z",
     "iopub.status.idle": "2022-07-01T18:42:23.541568Z",
     "shell.execute_reply": "2022-07-01T18:42:23.540233Z"
    },
    "papermill": {
     "duration": 0.034666,
     "end_time": "2022-07-01T18:42:23.543792",
     "exception": false,
     "start_time": "2022-07-01T18:42:23.509126",
     "status": "completed"
    },
    "tags": []
   },
   "outputs": [],
   "source": [
    "posts_pos = posts_data[posts_data.sentiment>0]\n",
    "posts_neu = posts_data[posts_data.sentiment==0]\n",
    "posts_neg = posts_data[posts_data.sentiment<0]"
   ]
  },
  {
   "cell_type": "code",
   "execution_count": 46,
   "id": "d7e8374c",
   "metadata": {
    "execution": {
     "iopub.execute_input": "2022-07-01T18:42:23.588952Z",
     "iopub.status.busy": "2022-07-01T18:42:23.588550Z",
     "iopub.status.idle": "2022-07-01T18:42:25.567049Z",
     "shell.execute_reply": "2022-07-01T18:42:25.565928Z"
    },
    "papermill": {
     "duration": 2.004215,
     "end_time": "2022-07-01T18:42:25.569397",
     "exception": false,
     "start_time": "2022-07-01T18:42:23.565182",
     "status": "completed"
    },
    "tags": []
   },
   "outputs": [
    {
     "data": {
      "image/png": "[encoded data removed]",
      "text/plain": [
       "<Figure size 432x288 with 1 Axes>"
      ]
     },
     "metadata": {
      "needs_background": "light"
     },
     "output_type": "display_data"
    }
   ],
   "source": [
    "fig, ax = plt.subplots()\n",
    "\n",
    "ax.plot(posts_pos.timestamp,posts_pos.sentiment,linewidth=1)\n",
    "\n",
    "plt.grid(visible=True)\n",
    "\n",
    "#Best-fit line\n",
    "\n",
    "z = np.polyfit(posts_pos.created, posts_pos.sentiment, 1)\n",
    "\n",
    "p = np.poly1d(z)\n",
    "\n",
    "ax.plot(posts_pos.timestamp, p(posts_pos.created),\"r--\")\n",
    "\n",
    "plt.show()"
   ]
  },
  {
   "cell_type": "code",
   "execution_count": 47,
   "id": "7152be7e",
   "metadata": {
    "execution": {
     "iopub.execute_input": "2022-07-01T18:42:25.615009Z",
     "iopub.status.busy": "2022-07-01T18:42:25.614545Z",
     "iopub.status.idle": "2022-07-01T18:42:28.286461Z",
     "shell.execute_reply": "2022-07-01T18:42:28.284940Z"
    },
    "papermill": {
     "duration": 2.698023,
     "end_time": "2022-07-01T18:42:28.289055",
     "exception": false,
     "start_time": "2022-07-01T18:42:25.591032",
     "status": "completed"
    },
    "tags": []
   },
   "outputs": [
    {
     "data": {
      "image/png": "[encoded data removed]",
      "text/plain": [
       "<Figure size 432x288 with 1 Axes>"
      ]
     },
     "metadata": {
      "needs_background": "light"
     },
     "output_type": "display_data"
    }
   ],
   "source": [
    "fig, ax = plt.subplots()\n",
    "\n",
    "ax.plot(posts_neg.timestamp,posts_neg.sentiment,linewidth=1)\n",
    "\n",
    "plt.grid(visible=True)\n",
    "\n",
    "#Best-fit line\n",
    "\n",
    "z = np.polyfit(posts_neg.created, posts_neg.sentiment, 1)\n",
    "\n",
    "p = np.poly1d(z)\n",
    "\n",
    "ax.plot(posts_neg.timestamp, p(posts_neg.created),\"r--\")\n",
    "\n",
    "plt.show()"
   ]
  },
  {
   "cell_type": "markdown",
   "id": "e01ed559",
   "metadata": {
    "papermill": {
     "duration": 0.022218,
     "end_time": "2022-07-01T18:42:28.334070",
     "exception": false,
     "start_time": "2022-07-01T18:42:28.311852",
     "status": "completed"
    },
    "tags": []
   },
   "source": [
    "Don't seem to be any significant trends here. Seems like positive sentiment slightly increased over time and negative sentiment slightly decreased, but these changes are very small. Would be interesting to see if there are trends on shorter timescales."
   ]
  },
  {
   "cell_type": "code",
   "execution_count": 48,
   "id": "395a8b1f",
   "metadata": {
    "execution": {
     "iopub.execute_input": "2022-07-01T18:42:28.381911Z",
     "iopub.status.busy": "2022-07-01T18:42:28.381477Z",
     "iopub.status.idle": "2022-07-01T18:42:28.580533Z",
     "shell.execute_reply": "2022-07-01T18:42:28.579344Z"
    },
    "papermill": {
     "duration": 0.225616,
     "end_time": "2022-07-01T18:42:28.582804",
     "exception": false,
     "start_time": "2022-07-01T18:42:28.357188",
     "status": "completed"
    },
    "tags": []
   },
   "outputs": [
    {
     "data": {
      "text/plain": [
       "{'whiskers': [<matplotlib.lines.Line2D at 0x7fa0bfa0f990>,\n",
       "  <matplotlib.lines.Line2D at 0x7fa0bfa0f050>],\n",
       " 'caps': [<matplotlib.lines.Line2D at 0x7fa0d8878cd0>,\n",
       "  <matplotlib.lines.Line2D at 0x7fa0d8878a10>],\n",
       " 'boxes': [<matplotlib.lines.Line2D at 0x7fa0bfa0fa50>],\n",
       " 'medians': [<matplotlib.lines.Line2D at 0x7fa0c489c510>],\n",
       " 'fliers': [<matplotlib.lines.Line2D at 0x7fa0c489cc90>],\n",
       " 'means': []}"
      ]
     },
     "execution_count": 48,
     "metadata": {},
     "output_type": "execute_result"
    },
    {
     "data": {
      "image/png": "[encoded data removed]",
      "text/plain": [
       "<Figure size 720x360 with 2 Axes>"
      ]
     },
     "metadata": {
      "needs_background": "light"
     },
     "output_type": "display_data"
    }
   ],
   "source": [
    "fig, ax = plt.subplots(1,2, figsize=(10,5))\n",
    "\n",
    "ax[0].set_title('Positive Sentiment')\n",
    "ax[0].boxplot(posts_pos.sentiment)\n",
    "\n",
    "ax[1].set_title('Negative Sentiment')\n",
    "ax[1].boxplot(posts_neg.sentiment)"
   ]
  },
  {
   "cell_type": "code",
   "execution_count": 49,
   "id": "848e70b9",
   "metadata": {
    "execution": {
     "iopub.execute_input": "2022-07-01T18:42:28.631340Z",
     "iopub.status.busy": "2022-07-01T18:42:28.630861Z",
     "iopub.status.idle": "2022-07-01T18:42:28.638526Z",
     "shell.execute_reply": "2022-07-01T18:42:28.637102Z"
    },
    "papermill": {
     "duration": 0.03514,
     "end_time": "2022-07-01T18:42:28.640867",
     "exception": false,
     "start_time": "2022-07-01T18:42:28.605727",
     "status": "completed"
    },
    "tags": []
   },
   "outputs": [
    {
     "name": "stdout",
     "output_type": "stream",
     "text": [
      "Positive sentiment mean: 0.41440992907801416 \n",
      "Negative sentiment mean: -0.49897931034482756\n"
     ]
    }
   ],
   "source": [
    "print('Positive sentiment mean: {}'.format(mean(posts_pos.sentiment)), '\\nNegative sentiment mean: {}'.format(mean(posts_neg.sentiment))  )"
   ]
  },
  {
   "cell_type": "markdown",
   "id": "7a195da3",
   "metadata": {
    "papermill": {
     "duration": 0.022467,
     "end_time": "2022-07-01T18:42:28.686101",
     "exception": false,
     "start_time": "2022-07-01T18:42:28.663634",
     "status": "completed"
    },
    "tags": []
   },
   "source": [
    "The distriubtion is roughly the same for both positive and negative sentiment, with a larger mean for negative sentiment."
   ]
  },
  {
   "cell_type": "code",
   "execution_count": null,
   "id": "f0731f38",
   "metadata": {
    "papermill": {
     "duration": 0.022525,
     "end_time": "2022-07-01T18:42:28.732538",
     "exception": false,
     "start_time": "2022-07-01T18:42:28.710013",
     "status": "completed"
    },
    "tags": []
   },
   "outputs": [],
   "source": []
  }
 ],
 "metadata": {
  "kernelspec": {
   "display_name": "Python 3",
   "language": "python",
   "name": "python3"
  },
  "language_info": {
   "codemirror_mode": {
    "name": "ipython",
    "version": 3
   },
   "file_extension": ".py",
   "mimetype": "text/x-python",
   "name": "python",
   "nbconvert_exporter": "python",
   "pygments_lexer": "ipython3",
   "version": "3.7.12"
  },
  "papermill": {
   "default_parameters": {},
   "duration": 33.001779,
   "end_time": "2022-07-01T18:42:29.880163",
   "environment_variables": {},
   "exception": null,
   "input_path": "__notebook__.ipynb",
   "output_path": "__notebook__.ipynb",
   "parameters": {},
   "start_time": "2022-07-01T18:41:56.878384",
   "version": "2.3.4"
  }
 },
 "nbformat": 4,
 "nbformat_minor": 5
}
